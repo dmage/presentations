{
 "cells": [
  {
   "cell_type": "code",
   "execution_count": 1,
   "id": "641095c9-8eba-42d8-977c-1d90cd442c53",
   "metadata": {
    "tags": []
   },
   "outputs": [],
   "source": [
    "import gzip\n",
    "import os\n",
    "import sqlite3\n",
    "from random import randrange\n",
    "from tqdm.notebook import tqdm"
   ]
  },
  {
   "cell_type": "code",
   "execution_count": null,
   "id": "84a33051-2861-4a6b-85b1-b35eaf4d6fb5",
   "metadata": {
    "tags": []
   },
   "outputs": [],
   "source": [
    "#!rm ./3gram.db"
   ]
  },
  {
   "cell_type": "code",
   "execution_count": 2,
   "id": "84faad72-8954-42ca-a847-3abd9031ca0e",
   "metadata": {
    "tags": []
   },
   "outputs": [],
   "source": [
    "con = sqlite3.connect(\"./3gram.db\")"
   ]
  },
  {
   "cell_type": "code",
   "execution_count": null,
   "id": "08d48225-d89d-4ad0-baee-86d3d271ef4b",
   "metadata": {
    "tags": []
   },
   "outputs": [],
   "source": [
    "# You can download wp_3gram.txt.gz from https://nlp.cs.nyu.edu/wikipedia-data/ngram/wp_3gram.txt.gz\n",
    "# More information is available at https://nlp.cs.nyu.edu/wikipedia-data/\n",
    "\n",
    "def get_3grams():\n",
    "    filename = \"./wp_3gram.txt.gz\"\n",
    "    size = os.path.getsize(filename)\n",
    "    pbar = tqdm(total=size, unit='b', unit_scale=True, unit_divisor=1024)\n",
    "    with gzip.open(filename, \"rt\", encoding=\"utf-8\") as f:\n",
    "        for line in f:\n",
    "            line = line.rstrip('\\n')\n",
    "            count, w1, w2, w3 = line.split(\"\\t\")\n",
    "            yield (w1, w2, w3, count)\n",
    "            pbar.update(f.buffer.fileobj.tell() - pbar.n)\n",
    "\n",
    "con.execute(\"CREATE TABLE data(w1 text, w2 text, w3 text, count int)\")\n",
    "con.executemany(\"INSERT INTO data(w1, w2, w3, count) VALUES (?, ?, ?, ?)\", get_3grams())\n",
    "con.execute(\"CREATE UNIQUE INDEX data_w ON data (w1, w2, w3)\")\n",
    "con.commit()"
   ]
  },
  {
   "cell_type": "markdown",
   "id": "f75d3e00-5a28-4db3-8709-e2b07272308f",
   "metadata": {
    "tags": []
   },
   "source": [
    "**3-grams**: The quick brown fox jumps over the lazy dog\n",
    "\n",
    "1. The quick brown\n",
    "2. quick brown fox\n",
    "3. brown fox jumps\n",
    "4. fox jumps over\n",
    "5. jumps over the\n",
    "6. over the lazy\n",
    "7. the lazy dog"
   ]
  },
  {
   "cell_type": "code",
   "execution_count": 3,
   "id": "d1e29134-c439-4bf3-bb67-309e0eae30af",
   "metadata": {
    "tags": []
   },
   "outputs": [
    {
     "data": {
      "text/plain": [
       "[('and', 'intermediate', 'periods', 1),\n",
       " ('and', 'intermediate', 'categories', 2),\n",
       " ('and', 'intermediate', 'maintenance', 10),\n",
       " ('and', 'intermediate', 'speakers', 1),\n",
       " ('and', 'intermediate', 'championships', 1)]"
      ]
     },
     "execution_count": 3,
     "metadata": {},
     "output_type": "execute_result"
    }
   ],
   "source": [
    "con.execute(\"SELECT * FROM data LIMIT 5 OFFSET 50000000\").fetchall()"
   ]
  },
  {
   "cell_type": "code",
   "execution_count": 4,
   "id": "047f60e7-8631-47ad-b006-4edbbf75a9e8",
   "metadata": {
    "tags": []
   },
   "outputs": [
    {
     "data": {
      "text/plain": [
       "(376671416,)"
      ]
     },
     "execution_count": 4,
     "metadata": {},
     "output_type": "execute_result"
    }
   ],
   "source": [
    "con.execute(\"SELECT COUNT(*) FROM data\").fetchone()"
   ]
  },
  {
   "cell_type": "code",
   "execution_count": 5,
   "id": "0903a08f-b4e4-4b0c-af14-9a8b55658410",
   "metadata": {
    "tags": []
   },
   "outputs": [],
   "source": [
    "def next_token(con, w1, w2):\n",
    "    n, = con.execute(\"SELECT SUM(count) FROM data WHERE w1 = ? AND w2 = ?\", (w1, w2)).fetchone()\n",
    "    s = randrange(0, n)\n",
    "    w, = con.execute(\"SELECT w3 FROM (SELECT w3, count, SUM(count) OVER (ORDER BY w1, w2, w3) AS end FROM data WHERE w1 = ? AND w2 = ?) WHERE end-count <= ? AND ? < end\", (w1, w2, s, s)).fetchone()\n",
    "    return w\n",
    "\n",
    "def generate(prefix, n=20):\n",
    "    print(prefix[0], end='')\n",
    "    for w in prefix[1:]:\n",
    "        print(' ' + w, end='')\n",
    "    w1, w2 = prefix[-2], prefix[-1]\n",
    "    for i in range(n):\n",
    "        w3 = next_token(con, w1, w2)\n",
    "        print(' ' + w3, end='')\n",
    "        w1, w2 = w2, w3\n",
    "        if w3 == \"#EOS#\":\n",
    "            break\n",
    "    print()"
   ]
  },
  {
   "cell_type": "code",
   "execution_count": 6,
   "id": "4f783561-8412-45c1-bace-e44fcee5af87",
   "metadata": {
    "tags": []
   },
   "outputs": [
    {
     "name": "stdout",
     "output_type": "stream",
     "text": [
      "The quick brown fox jumps over the Philadelphia Athletics ( 1957 ) and for this . #EOS#\n",
      "The quick brown fox jumped over one thousand eighty - year - old county . #EOS#\n",
      "The quick brown fox jumps over the complexes via two receptor isoforms with different developmental stages that do occur for great personal valor ,\n",
      "The quick brown fox jumps over the Mediterranean Sea . #EOS#\n",
      "The quick brown fox . #EOS#\n",
      "The quick brown fox jumps over a month after it was torn down for redevelopment . #EOS#\n",
      "The quick brown fox jumps over a combined carrier if the 149 miles ( 3.1 ) #EOS#\n",
      "The quick brown fox jumps over the barbarism that ranks second in the Dictionary of London campaignchecked February 2007 . #EOS#\n",
      "The quick brown fox jumps over the world was unconsciously producing the film industry . #EOS#\n",
      "The quick brown fox jumps over the PCIe version ) would visit Southgate to form Socony - Vacuum ( Hell Gate #EOS#\n"
     ]
    }
   ],
   "source": [
    "for i in range(10):\n",
    "    generate([\"The\", \"quick\", \"brown\", \"fox\"])"
   ]
  },
  {
   "cell_type": "code",
   "execution_count": 7,
   "id": "d291f851-39d8-409f-bc29-82ba6a7637fa",
   "metadata": {
    "tags": []
   },
   "outputs": [
    {
     "name": "stdout",
     "output_type": "stream",
     "text": [
      "What is NASA ' s proposition is true , or being in Sudan #EOS#\n",
      "What is NASA ' s father purposely let a Jew and a PS1 conversion of abandoned buildings , sometimes called \" Bunny \"\n",
      "What is NASA ' s Printer , SilenType , Scribe ( LSS ) at an unknown source #EOS#\n",
      "What is NASA ' s opponent , who would have to believe that Dreier has a rich miser , counted separately . #EOS#\n",
      "What is NASA astronaut . #EOS#\n",
      "What is NASA ' s Faraday Award ( Canucks Unsung Hero ) . #EOS#\n",
      "What is NASA ' s successor . #EOS#\n",
      "What is NASA ' s 1.08 #EOS#\n",
      "What is NASA ' s dissertation , MIT ) , featuring collaborations with artists such as counting , the 75th Grey Cup date\n",
      "What is NASA ' s death in 1968 when Pierre Trudeau serving out his regiments to form a sub - Mendip , Compton\n"
     ]
    }
   ],
   "source": [
    "for i in range(10):\n",
    "    generate([\"What\", \"is\", \"NASA\"])"
   ]
  }
 ],
 "metadata": {
  "kernelspec": {
   "display_name": "Python 3 (ipykernel)",
   "language": "python",
   "name": "python3"
  },
  "language_info": {
   "codemirror_mode": {
    "name": "ipython",
    "version": 3
   },
   "file_extension": ".py",
   "mimetype": "text/x-python",
   "name": "python",
   "nbconvert_exporter": "python",
   "pygments_lexer": "ipython3",
   "version": "3.10.12"
  }
 },
 "nbformat": 4,
 "nbformat_minor": 5
}
